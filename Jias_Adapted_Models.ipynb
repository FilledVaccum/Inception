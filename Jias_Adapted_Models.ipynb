{
 "cells": [
  {
   "cell_type": "code",
   "execution_count": 1,
   "id": "287c7dcb-33df-49ac-8a4d-577dfad3a7e0",
   "metadata": {
    "execution": {
     "iopub.execute_input": "2025-10-03T10:13:59.365172Z",
     "iopub.status.busy": "2025-10-03T10:13:59.364974Z",
     "iopub.status.idle": "2025-10-03T10:13:59.560570Z",
     "shell.execute_reply": "2025-10-03T10:13:59.559823Z",
     "shell.execute_reply.started": "2025-10-03T10:13:59.365153Z"
    }
   },
   "outputs": [
    {
     "name": "stdout",
     "output_type": "stream",
     "text": [
      "Python executable: /home/sagemaker-user/.conda/envs/inception/bin/python\n",
      "Python prefix: /home/sagemaker-user/.conda/envs/inception\n",
      "Conda environment: base\n",
      "Conda prefix: /opt/conda\n",
      "Pip location: /opt/conda/bin/pip\n",
      "Pip version: pip 25.1.1 from /opt/conda/lib/python3.12/site-packages/pip (python 3.12)\n"
     ]
    }
   ],
   "source": [
    "import sys\n",
    "import os\n",
    "import subprocess\n",
    "\n",
    "print(\"Python executable:\", sys.executable)\n",
    "print(\"Python prefix:\", sys.prefix)\n",
    "print(\"Conda environment:\", os.environ.get('CONDA_DEFAULT_ENV'))\n",
    "print(\"Conda prefix:\", os.environ.get('CONDA_PREFIX'))\n",
    "\n",
    "# Check pip location\n",
    "result = subprocess.run(['which', 'pip'], capture_output=True, text=True)\n",
    "print(\"Pip location:\", result.stdout.strip())\n",
    "\n",
    "# Check pip version\n",
    "result = subprocess.run(['pip', '--version'], capture_output=True, text=True)\n",
    "print(\"Pip version:\", result.stdout.strip())"
   ]
  },
  {
   "cell_type": "code",
   "execution_count": 2,
   "id": "98b223f7-b6ec-4774-81b9-5c88472cb451",
   "metadata": {
    "execution": {
     "iopub.execute_input": "2025-10-03T10:13:59.561731Z",
     "iopub.status.busy": "2025-10-03T10:13:59.561418Z",
     "iopub.status.idle": "2025-10-03T10:13:59.572319Z",
     "shell.execute_reply": "2025-10-03T10:13:59.571566Z",
     "shell.execute_reply.started": "2025-10-03T10:13:59.561700Z"
    }
   },
   "outputs": [
    {
     "name": "stdout",
     "output_type": "stream",
     "text": [
      "Fixed pip location: /home/sagemaker-user/.conda/envs/inception/bin/pip\n"
     ]
    }
   ],
   "source": [
    "import os\n",
    "import sys\n",
    "\n",
    "# Add environment's bin directory to PATH\n",
    "env_bin = os.path.dirname(sys.executable)\n",
    "current_path = os.environ['PATH']\n",
    "if env_bin not in current_path:\n",
    "    os.environ['PATH'] = f\"{env_bin}:{current_path}\"\n",
    "\n",
    "# Verify fix\n",
    "result = subprocess.run(['which', 'pip'], capture_output=True, text=True)\n",
    "print(\"Fixed pip location:\", result.stdout.strip())"
   ]
  },
  {
   "cell_type": "markdown",
   "id": "5c24a1be-a8e4-4d99-89be-ca7b3034e23e",
   "metadata": {},
   "source": [
    "# inceptionai/jais-adapted-7b"
   ]
  },
  {
   "cell_type": "code",
   "execution_count": null,
   "id": "31b0e5a4-1660-4a26-9b9a-0b54c3eb8264",
   "metadata": {
    "execution": {
     "execution_failed": "2025-10-03T10:23:15.536Z"
    }
   },
   "outputs": [],
   "source": [
    "# -*- coding: utf-8 -*-\n",
    "\n",
    "from transformers import AutoTokenizer, AutoModelForCausalLM\n",
    "import torch\n",
    "\n",
    "model_path = \"inceptionai/jais-adapted-7b\"\n",
    "\n",
    "device = \"cuda\" if torch.cuda.is_available() else \"cpu\"\n",
    "\n",
    "tokenizer = AutoTokenizer.from_pretrained(model_path, use_fast=False)\n",
    "model = AutoModelForCausalLM.from_pretrained(model_path, device_map=\"auto\", trust_remote_code=True)\n",
    "\n",
    "if tokenizer.pad_token is None:\n",
    "    tokenizer.pad_token = tokenizer.eos_token\n",
    "\n",
    "def get_response(text, tokenizer=tokenizer, model=model):\n",
    "    tokenized = tokenizer(text, return_tensors=\"pt\")\n",
    "    input_ids, attention_mask = tokenized['input_ids'].to(device), tokenized['attention_mask'].to(device)\n",
    "    input_len = input_ids.shape[-1]\n",
    "    generate_ids = model.generate(\n",
    "        input_ids,\n",
    "        attention_mask=attention_mask,\n",
    "        top_p=0.9,\n",
    "        temperature=0.3,\n",
    "        max_length=2048,\n",
    "        min_length=input_len + 4,\n",
    "        repetition_penalty=1.2,\n",
    "        do_sample=True,\n",
    "        pad_token_id=tokenizer.pad_token_id\n",
    "    )\n",
    "    response = tokenizer.batch_decode(\n",
    "        generate_ids, skip_special_tokens=True, clean_up_tokenization_spaces=True\n",
    "    )[0]\n",
    "    return response\n",
    "\n",
    "text = \"عاصمة دولة الإمارات العربية المتحدة ه\"\n",
    "print(get_response(text))\n",
    "\n",
    "text = \"The capital of UAE is\"\n",
    "print(get_response(text))\n"
   ]
  },
  {
   "cell_type": "code",
   "execution_count": null,
   "id": "0e96811b-9fa9-42db-bb5f-ce3c562bc4dd",
   "metadata": {},
   "outputs": [],
   "source": []
  }
 ],
 "metadata": {
  "kernelspec": {
   "display_name": "Python (inception)",
   "language": "python",
   "name": "inception"
  },
  "language_info": {
   "codemirror_mode": {
    "name": "ipython",
    "version": 3
   },
   "file_extension": ".py",
   "mimetype": "text/x-python",
   "name": "python",
   "nbconvert_exporter": "python",
   "pygments_lexer": "ipython3",
   "version": "3.9.23"
  }
 },
 "nbformat": 4,
 "nbformat_minor": 5
}
